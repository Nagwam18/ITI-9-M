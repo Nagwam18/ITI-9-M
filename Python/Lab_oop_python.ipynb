{
 "cells": [
  {
   "cell_type": "code",
   "execution_count": 47,
   "metadata": {
    "id": "slybX1tfw3pc"
   },
   "outputs": [],
   "source": [
    "class Queue:\n",
    "    def __init__(self, size):\n",
    "        self.size = size\n",
    "        self.arr_queue = [None] * size\n",
    "        self.rare = -1\n",
    "        self.front = -1\n",
    "\n",
    "    def is_empty(self):\n",
    "        if self.front == -1:\n",
    "            return True\n",
    "        else:\n",
    "            return False\n",
    "\n",
    "\n",
    "    def insert(self, ele: int):\n",
    "        try:\n",
    "              if self.is_empty():\n",
    "                    self.front = 0\n",
    "        except:\n",
    "              self.rare = self.rare + 1\n",
    "              if self.rare == self.size:\n",
    "                print(\"QueueOutOfRangeException\")\n",
    "                self.rare = 0\n",
    "              self.arr_queue[self.rare] = ele\n",
    "\n",
    "\n",
    "\n",
    "    def pop(self):\n",
    "        if self.is_empty():\n",
    "            print(\"Queue is empty\")\n",
    "\n",
    "        ele = self.arr_queue[self.front]\n",
    "        self.arr_queue[self.front] = None\n",
    "\n",
    "        if self.front == self.rare:\n",
    "            self.front = -1\n",
    "            self.rare = -1\n",
    "        else:\n",
    "            self.front = self.front + 1\n",
    "            if self.front == self.size:\n",
    "                self.front = 0\n",
    "\n",
    "        return ele\n",
    "    def print_queue(self):\n",
    "        if self.is_empty():\n",
    "            print(\"Queue is empty\")\n",
    "        else:\n",
    "            print(f\"Queue contents: {self.arr_queue}\")\n"
   ]
  },
  {
   "cell_type": "code",
   "execution_count": 43,
   "metadata": {
    "colab": {
     "base_uri": "https://localhost:8080/"
    },
    "id": "leyFJ8l93-4Y",
    "outputId": "9beb5a46-84ee-45e0-c9b1-cf041727bf51"
   },
   "outputs": [
    {
     "name": "stdout",
     "output_type": "stream",
     "text": [
      "Popped  1\n",
      "Popped  2\n",
      "Queue contents: [None, None, 3, 3, 4, None]\n"
     ]
    }
   ],
   "source": [
    "queue = Queue(6)\n",
    "queue.insert(1)\n",
    "queue.insert(2)\n",
    "queue.insert(3)\n",
    "queue.insert(3)\n",
    "print(\"Popped \", queue.pop())\n",
    "print(\"Popped \", queue.pop())\n",
    "queue.insert(4)\n",
    "queue.print_queue()"
   ]
  },
  {
   "cell_type": "code",
   "execution_count": 44,
   "metadata": {
    "id": "DZT5pfKN9LnH"
   },
   "outputs": [],
   "source": [
    "import json\n",
    "class New_Queue(Queue):\n",
    "    queues = []\n",
    "    def __init__(self,name,size):\n",
    "        super().__init__(size)\n",
    "        self.name = name\n",
    "        New_Queue.queues.append(self)\n",
    "\n",
    "        def insert(self, ele: int):\n",
    "            super().insert(ele)\n",
    "\n",
    "        def pop(self):\n",
    "            return super().pop()\n",
    "\n",
    "    @classmethod\n",
    "    def queue_name(cls, name):\n",
    "        return cls.queues.get(name, None)\n",
    "\n",
    "\n",
    "\n",
    "    @classmethod\n",
    "    def save(cls, filename):\n",
    "      data = {}\n",
    "      for q in cls.queues:\n",
    "          data[q.name] = {\n",
    "          \"name\": q.name,\n",
    "          \"size\": q.size,\n",
    "          \"arr_queue\": q.arr_queue,\n",
    "          \"front\": q.front,\n",
    "          \"rare\": q.rare\n",
    "          }\n",
    "      with open(filename, 'w') as f:\n",
    "          json.dump(data, f, indent=4)\n",
    "      print(f\"Queues saved\")\n",
    "\n",
    "\n",
    "    @classmethod\n",
    "    def load(cls, filename):\n",
    "        with open(filename, 'r') as f:\n",
    "            data = json.load(f)\n",
    "            loaded_queues = []\n",
    "            for name, qd in data.items():\n",
    "                q = New_Queue(qd[\"name\"], qd[\"size\"])\n",
    "                q.arr_queue = qd[\"arr_queue\"]\n",
    "                q.front = qd[\"front\"]\n",
    "                q.rare = qd[\"rare\"]\n",
    "                loaded_queues.append(q)\n",
    "            print(f\"Queues loaded\")\n",
    "            return loaded_queues\n",
    "        return []\n",
    "\n",
    "\n"
   ]
  },
  {
   "cell_type": "code",
   "execution_count": 46,
   "metadata": {
    "colab": {
     "base_uri": "https://localhost:8080/"
    },
    "id": "fPibmFc2OyYt",
    "outputId": "bb59e0ef-42fa-4e6d-8e14-fcbbf82583ae"
   },
   "outputs": [
    {
     "name": "stdout",
     "output_type": "stream",
     "text": [
      "Queues saved\n",
      "Queues loaded\n",
      "Queue contents: [10, 20, None, None, None]\n",
      "Queue contents: [30, None, None]\n"
     ]
    }
   ],
   "source": [
    "if __name__ == \"__main__\":\n",
    "        q1 = New_Queue(\"Queue1\", 5)\n",
    "        q2 = New_Queue(\"Queue2\", 3)\n",
    "\n",
    "        q1.insert(10)\n",
    "        q1.insert(20)\n",
    "        q2.insert(30)\n",
    "\n",
    "        New_Queue.save(\"queues.json\")\n",
    "        loaded_queues = New_Queue.load(\"queues.json\")\n",
    "\n",
    "        for queue in loaded_queues:\n",
    "            queue.print_queue()\n",
    "\n"
   ]
  }
 ],
 "metadata": {
  "colab": {
   "provenance": []
  },
  "kernelspec": {
   "display_name": "Python 3 (ipykernel)",
   "language": "python",
   "name": "python3"
  },
  "language_info": {
   "codemirror_mode": {
    "name": "ipython",
    "version": 3
   },
   "file_extension": ".py",
   "mimetype": "text/x-python",
   "name": "python",
   "nbconvert_exporter": "python",
   "pygments_lexer": "ipython3",
   "version": "3.8.18"
  }
 },
 "nbformat": 4,
 "nbformat_minor": 1
}
